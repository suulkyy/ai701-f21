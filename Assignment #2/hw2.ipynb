{
 "cells": [
  {
   "cell_type": "markdown",
   "metadata": {},
   "source": [
    "# 2021 Fall AI701 Homework assignment #2  \n",
    "Read the following problem sheet and answer to the questions. Along with the completed version of this $\\texttt{ipynb}$ file, **you should also submit an additional file including solutions to the problems marked with $\\star$.**"
   ]
  },
  {
   "cell_type": "markdown",
   "metadata": {},
   "source": [
    "## Problem 1 (20 pts)\n",
    "(a) (3 pts) Let $X \\sim \\mathrm{Exp}(\\lambda)$ be an exponential random variable with parameter $\\lambda > 0$ with probability density function (PDF) \n",
    "$$\n",
    "f_X(x) = \\lambda e^{-\\lambda x} \\mathbf{1}[x \\geq 0].\n",
    "$$\n",
    "Using the function to sample from a uniform distribution $\\texttt{npr.rand}$, implement the following code to sample $X$. "
   ]
  },
  {
   "cell_type": "code",
   "execution_count": null,
   "metadata": {},
   "outputs": [],
   "source": [
    "import numpy as np\n",
    "import numpy.random as npr\n",
    "\n",
    "# Draw n samples from an exponential distribution with parameter lamb.\n",
    "def rand_exp(lamb, n):\n",
    "    ##########################################\n",
    "    # put your code here\n",
    "    ##########################################"
   ]
  },
  {
   "cell_type": "markdown",
   "metadata": {},
   "source": [
    "$\\star$ (b) (2 pts) We will use the law of large numbers to verify your code. For that, compute the mean and variance of $X$ with PDF $f_X(x) = \\lambda e^{-\\lambda x} \\mathbf{1}[x \\geq 0]$."
   ]
  },
  {
   "cell_type": "markdown",
   "metadata": {},
   "source": [
    "(c) (3 pts) Complete the following code and show that your implementation for $\\texttt{rand\\_exp}$ is correct."
   ]
  },
  {
   "cell_type": "code",
   "execution_count": null,
   "metadata": {},
   "outputs": [],
   "source": [
    "# compute the mean of an exponential distribution with parameter lamb.\n",
    "def exp_mean(lamb):\n",
    "    ##########################################\n",
    "    # put your code here\n",
    "    ##########################################\n",
    "\n",
    "# compute the variance of an exponential distribution with parameter lamb.\n",
    "def exp_var(lamb):\n",
    "    ##########################################\n",
    "    # put your code here\n",
    "    ##########################################\n",
    "\n",
    "lamb = 1.5\n",
    "n = 100000\n",
    "x = rand_exp(lamb, n)\n",
    "\n",
    "print(f'true mean {exp_mean(lamb)}, empirical mean {x.mean()}')\n",
    "print(f'true variance {exp_var(lamb)}, empirical variance {x.var()}')\n",
    "\n"
   ]
  },
  {
   "cell_type": "markdown",
   "metadata": {},
   "source": [
    "$\\star$ (d) (5 pts) Let $Y_1 \\sim \\mathrm{Gamma}(a_1, b)$ be a gamma random variable with shape parameter $a_1 > 0$ and rate parameter $b > 0$ with PDF\n",
    "$$\n",
    "f_{Y_1}(y) = \\frac{b^{a_1}y^{a_1-1}e^{-by}}{\\Gamma(a_1)} \\mathbf{1}[y \\geq 0].\n",
    "$$\n",
    "Similarly, let $Y_2 \\sim \\mathrm{Gamma}(a_2, b)$ be another gamma random variable with shape $a_2 > 0$ and rate $b > 0$. Assuming $Y_1$ and $Y_2$ are independent, show that $Y = Y_1 + Y_2 \\sim \\mathrm{Gamma}(a_1+a_2, b)$.\n"
   ]
  },
  {
   "cell_type": "markdown",
   "metadata": {},
   "source": [
    "$\\star$ (e) (4 pts) Explain how to draw samples from a gamma distributed random variable $Y \\sim \\mathrm{Gamma}(m, 1)$ with $m \\in \\mathbb{N}$ ($\\mathbb{N}$ is a set of natural numbers) using $\\texttt{rand\\_exp}$."
   ]
  },
  {
   "cell_type": "markdown",
   "metadata": {},
   "source": [
    "(f) (3 pts) Complete the following codes to sample from $Y \\sim \\mathrm{Gamma}(m, 1)$ and verify the correctness."
   ]
  },
  {
   "cell_type": "code",
   "execution_count": null,
   "metadata": {},
   "outputs": [],
   "source": [
    "# Draw n samples from a gamma random variable with shape m (natural number) and rate 1.\n",
    "def rand_gamma(m, n):\n",
    "    ##########################################\n",
    "    # put your code here\n",
    "    ##########################################\n",
    "\n",
    "def gamma_mean(m):\n",
    "    return m\n",
    "\n",
    "def gamma_var(m):\n",
    "    return m\n",
    "\n",
    "n = 100000\n",
    "m = 6\n",
    "x = rand_gamma(m, n)\n",
    "\n",
    "print(f'true mean {gamma_mean(m)}, empirical mean {x.mean()}')\n",
    "print(f'true variance {gamma_var(m)}, empirical variance {x.var()}')"
   ]
  },
  {
   "cell_type": "markdown",
   "metadata": {},
   "source": [
    "## Problem 2 (30 pts)\n",
    "Consider a random variable $X$ whose unnormalized PDF is given as follows:\n",
    "$$\n",
    "\\tilde f_X(x) = x^2 \\sin(2\\pi x) \\mathbf{1}[-2\\leq x \\leq 2], \\quad f_X(x) = \\frac{\\tilde f_X(x)}{Z}, \\quad Z := \\int_{-2}^2 \\tilde f_X(x)\\mathrm{d}x.\n",
    "$$\n",
    "(Actually, we can compute $Z$ analytically, but for now assume that we can't for some reason). We'd like to simulate $X$ via rejection sampling. For that, we design a proposal distribution with density function $q(x)$ given as\n",
    "$$\n",
    "q(x) = \\frac{3}{16}x^2 \\mathbf{1}[-2 \\leq x \\leq 2],\n",
    "$$\n",
    "and set $M = 16/3$. Then clearly $M q(x) \\geq \\tilde f_X(x)$ for all $x \\in [-2, 2]$. The following code plotting $\\tilde f_X$ and $q$ demonstrate this."
   ]
  },
  {
   "cell_type": "code",
   "execution_count": null,
   "metadata": {},
   "outputs": [],
   "source": [
    "import matplotlib.pyplot as plt\n",
    "from scipy.integrate import quad\n",
    "\n",
    "def f_tilde(x):\n",
    "    return x**2 * np.sin(2*np.pi*x)**2\n",
    "\n",
    "def q(x):\n",
    "     return 3*x**2/16\n",
    "\n",
    "M = 16.0/3.0\n",
    "\n",
    "plt.figure()\n",
    "x = np.linspace(-2, 2, 1000)\n",
    "plt.plot(x, M*q(x), '-r', label=r'$Mq(x)$')\n",
    "plt.plot(x, f_tilde(x), '-b', label=r'$\\tilde f(x)$')\n",
    "plt.legend()"
   ]
  },
  {
   "cell_type": "markdown",
   "metadata": {},
   "source": [
    "$\\star$ (a) (8 pts) Describe how to sample from $q(x)$ using $\\texttt{npr.rand}$, and compute the mean and variance of the distribution."
   ]
  },
  {
   "cell_type": "markdown",
   "metadata": {},
   "source": [
    "(b) (4 pts) Complete the following codes to sample from $q(x)$ and verify the correctness."
   ]
  },
  {
   "cell_type": "code",
   "execution_count": null,
   "metadata": {},
   "outputs": [],
   "source": [
    "# draw n samples from the distribution with PDF q(x).\n",
    "def rand_q(n):\n",
    "    ##########################################\n",
    "    # put your code here\n",
    "    ##########################################\n",
    "    \n",
    "q_true_mean = ######## put your answer here ############\n",
    "q_true_var = ######## put your answer here #############\n",
    "\n",
    "\n",
    "n = 100000\n",
    "x = rand_q(n)\n",
    "\n",
    "print(f'true mean {q_true_mean}, empirical mean {x.mean()}')\n",
    "print(f'true variance {q_true_var}, empirical variance {x.var()}')"
   ]
  },
  {
   "cell_type": "markdown",
   "metadata": {},
   "source": [
    "(c) (9 pts) Complete the following code to sample from $f_X(x)$ with rejection sampling using $q(x)$ as a proposal. Verify your implementation with the provided codes drawing histograms of samples and comparing empirical means and variances to numerically computed means and expectations."
   ]
  },
  {
   "cell_type": "code",
   "execution_count": null,
   "metadata": {},
   "outputs": [],
   "source": [
    "# draw a sample from f_X with rejection sampling.\n",
    "def rand_f_rejection():\n",
    "    ##########################################\n",
    "    # put your code here\n",
    "    ##########################################\n",
    "\n",
    "# draw samples\n",
    "n = 100000\n",
    "x = np.array([rand_f_rejection() for _ in range(n)])\n",
    "\n",
    "# verification by drawing empirical distribution\n",
    "\n",
    "plt.hist(x, bins=100, density=True, facecolor='b', edgecolor='k', alpha=0.5);\n",
    "\n",
    "# numerical integration for the normalization constant\n",
    "Z = quad(f_tilde, -2, 2)[0]\n",
    "tx = np.linspace(-2, 2, 1000)\n",
    "plt.plot(tx, f_tilde(tx)/Z, '-r', linewidth=2.0)\n",
    "\n",
    "# verification by comparing mean and variances\n",
    "numerical_mean = quad(lambda x: x*f_tilde(x)/Z, -2, 2)[0]\n",
    "numerical_var = quad(lambda x: x**2*f_tilde(x)/Z, -2, 2)[0] - numerical_mean**2\n",
    "\n",
    "print(f'numerical mean {numerical_mean}, empirical mean {x.mean()}')\n",
    "print(f'numerical variance {numerical_var}, empirical variance {x.var()}')"
   ]
  },
  {
   "cell_type": "markdown",
   "metadata": {},
   "source": [
    "(d) (9 pts) Consider the following expecation of $X$,\n",
    "$$\n",
    "\\mathbb{E}[g(X)] = \\int_{-2}^2 g(x) f_X(x)\\mathrm{d} x = \\int_{-2}^2 g(x) \\frac{\\tilde f_X(x)}{Z}\\mathrm{d} x.\n",
    "$$\n",
    "Complete the following code to estimating this expecation via self-normalized importance sampling. Use $q(x)$ implemented above as a proposal distribution."
   ]
  },
  {
   "cell_type": "code",
   "execution_count": null,
   "metadata": {},
   "outputs": [],
   "source": [
    "# compute the approximation for the expectation E[g(X)] using n number of samples.\n",
    "# g: target function to compute expectation\n",
    "# n: number of samples being used\n",
    "def SNIS(g, n):\n",
    "    ##########################################\n",
    "    # put your code here\n",
    "    ##########################################\n",
    "\n",
    "# verify your implementation using numerical integration\n",
    "g = lambda x: np.log(np.abs(x) + 1.0)\n",
    "n = 100000\n",
    "snis_expec = SNIS(g, n)\n",
    "\n",
    "numerical_expec = quad(lambda x: g(x)*f_tilde(x)/Z, -2, 2)[0]\n",
    "\n",
    "print(f'Expectation via numerical integration {numerical_expec}, expectation via SNIS {snis_expec}')"
   ]
  },
  {
   "cell_type": "markdown",
   "metadata": {},
   "source": [
    "## Problem 3 (20 pts)\n",
    "Let $X$ be a $d$-dimensional categorical random varaible with Probability Mass Function (PMF)\n",
    "$$\n",
    "f_X(x) = \\prod_{j=1}^d \\pi_j^{\\mathbf{1}[x = j]}.\n",
    "$$\n",
    "Using only $\\texttt{npr.rand}$, complete the following code to draw samples from the categorical distribution. Verify the correctness of your implementation using the provide code."
   ]
  },
  {
   "cell_type": "code",
   "execution_count": null,
   "metadata": {},
   "outputs": [],
   "source": [
    "# draw a sample from a categorical distribution with parameter pi\n",
    "def rand_cat(pi):\n",
    "    ##########################################\n",
    "    # put your code here\n",
    "    ##########################################\n",
    "\n",
    "# verify the code using LLN\n",
    "d = 5\n",
    "pi = npr.rand(d)\n",
    "pi = pi / pi.sum()\n",
    "\n",
    "n = 100000\n",
    "x = np.zeros(d)\n",
    "for i in range(n):\n",
    "    x[rand_cat(pi)] += 1\n",
    "\n",
    "print(f'empirical mean {x/x.sum()}')\n",
    "print(f'true mean {pi}')"
   ]
  },
  {
   "cell_type": "markdown",
   "metadata": {},
   "source": [
    "## Problem 4 (30 pts)\n",
    "Consider a bivariate random variable $X = (X_1, X_2)$ with the following unnormalizing PDF:\n",
    "$$\n",
    "\\tilde f_X(x_1, x_2) = \\exp\\bigg( - \\bigg( x_1 - \\frac{x_2^2}{4}\\bigg)^2 - \\frac{x_2^2}{4}\\bigg).\n",
    "$$\n",
    "You can see a contour plot of the density by the following code."
   ]
  },
  {
   "cell_type": "code",
   "execution_count": null,
   "metadata": {},
   "outputs": [],
   "source": [
    "# x: n times 2 matrix or 2 dimensional vector\n",
    "def log_f_tilde(x):\n",
    "    if x.ndim == 2:\n",
    "        x1, x2 = x[:,0], x[:,1]\n",
    "    else:\n",
    "        x1, x2 = x\n",
    "\n",
    "    return -(x2 - x1**2/4)**2 - x1**2/4\n",
    "\n",
    "def plot_density(alpha=1.0):\n",
    "    nx, ny = 50, 50\n",
    "    x = np.linspace(-5, 5, nx)\n",
    "    y = np.linspace(-2, 4, ny)\n",
    "    xx, yy = np.meshgrid(x, y)\n",
    "    z = np.exp(log_f_tilde(np.concatenate([xx.reshape((-1, 1)), yy.reshape((-1, 1))], -1)))\n",
    "    plt.contour(x, y, z.reshape((nx, ny)), cmap='inferno', alpha=alpha)\n",
    "\n",
    "plot_density()"
   ]
  },
  {
   "cell_type": "markdown",
   "metadata": {},
   "source": [
    "We want to write a Metropolis-Hastings algorithm based Markov-chain Monte-Carlo sampler for this distribution. we will use a simple random walk Gaussian distribution as our proposal,\n",
    "$$\n",
    "q(x'|x) = \\mathcal{N}(x' ; x, \\sigma^2 I),\n",
    "$$\n",
    "where we fix $\\sigma = 0.2$. Complete the following code to run the random walk Metropolis Hastings. Using the provided code, verify the correctness of your implementation by visualizing samples."
   ]
  },
  {
   "cell_type": "code",
   "execution_count": null,
   "metadata": {},
   "outputs": [],
   "source": [
    "# propose a sample from the proposal distribution q(x' | x) = N(x' ; x, sigma^2*I)\n",
    "def q_MH(x, sigma):\n",
    "    ##########################################\n",
    "    # put your code here\n",
    "    ##########################################\n",
    "\n",
    "\n",
    "# run a random-walk Metropolis Hastings\n",
    "# x0: initial sample\n",
    "# num_samples: number of samples to collect\n",
    "# sigma: variance for the proposal distribution\n",
    "def RW_MH(x0, num_samples, sigma):\n",
    "    ##########################################\n",
    "    # put your code here\n",
    "    ##########################################\n",
    "\n",
    "\n",
    "# randomly initialize a chain\n",
    "x0 = 0.01*npr.randn(2)\n",
    "# collect 10000 samples from RW MH\n",
    "x = RW_MH(x0, 10000, 0.2)\n",
    "\n",
    "# visualize the samples\n",
    "plot_density(alpha=1.0)\n",
    "plt.scatter(x[:,0], x[:,1], alpha=0.1, color='b')"
   ]
  }
 ],
 "metadata": {
  "interpreter": {
   "hash": "374acf0a8600279850f148506a6b4762afb2721aa53d2847250d0f3e4a044f03"
  },
  "kernelspec": {
   "display_name": "Python 3.8.5 64-bit ('base': conda)",
   "name": "python3"
  },
  "language_info": {
   "codemirror_mode": {
    "name": "ipython",
    "version": 3
   },
   "file_extension": ".py",
   "mimetype": "text/x-python",
   "name": "python",
   "nbconvert_exporter": "python",
   "pygments_lexer": "ipython3",
   "version": "3.8.5"
  },
  "orig_nbformat": 4
 },
 "nbformat": 4,
 "nbformat_minor": 2
}
