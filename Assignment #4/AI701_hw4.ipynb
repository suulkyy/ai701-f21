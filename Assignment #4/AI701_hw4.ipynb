{
  "cells": [
    {
      "cell_type": "markdown",
      "metadata": {
        "id": "k_dae2XVwRmg"
      },
      "source": [
        "# **2021 Fall AI701 Homework assignment 4**\n",
        "Read the following problem sheet and submit your completed $\\texttt{ipynb}$ file."
      ]
    },
    {
      "cell_type": "markdown",
      "metadata": {
        "id": "FlsEkkW6wiR8"
      },
      "source": [
        "In this homework, we will implement a simple Bayesian neural network (BNN) using $\\texttt{jax}$. If you are not familiar with $\\texttt{jax}$, you can treat it as a $\\texttt{numpy}$ equipped with automatic differentiation (plus many other useful functionalities). This homework is designed to minimize your effort to get familiar with $\\texttt{jax}$, but if you still find it difficult, you may refer to a tutorial (https://jax.readthedocs.io/en/latest/notebooks/quickstart.html)."
      ]
    },
    {
      "cell_type": "code",
      "execution_count": 1,
      "metadata": {
        "id": "d5Wji8TOVaXn"
      },
      "outputs": [
        {
          "name": "stdout",
          "output_type": "stream",
          "text": [
            "Requirement already satisfied: optax in /mnt/hdd/sultan/anaconda3/lib/python3.8/site-packages (0.1.0)\n",
            "Requirement already satisfied: typing-extensions~=3.10.0 in /mnt/hdd/sultan/anaconda3/lib/python3.8/site-packages (from optax) (3.10.0.2)\n",
            "Requirement already satisfied: jax>=0.1.55 in /mnt/hdd/sultan/anaconda3/lib/python3.8/site-packages (from optax) (0.2.26)\n",
            "Requirement already satisfied: numpy>=1.18.0 in /mnt/hdd/sultan/anaconda3/lib/python3.8/site-packages (from optax) (1.19.2)\n",
            "Requirement already satisfied: chex>=0.0.4 in /mnt/hdd/sultan/anaconda3/lib/python3.8/site-packages (from optax) (0.1.0)\n",
            "Requirement already satisfied: jaxlib>=0.1.37 in /mnt/hdd/sultan/anaconda3/lib/python3.8/site-packages (from optax) (0.1.75)\n",
            "Requirement already satisfied: absl-py>=0.7.1 in /mnt/hdd/sultan/anaconda3/lib/python3.8/site-packages (from optax) (1.0.0)\n",
            "Requirement already satisfied: six in /mnt/hdd/sultan/anaconda3/lib/python3.8/site-packages (from absl-py>=0.7.1->optax) (1.15.0)\n",
            "Requirement already satisfied: toolz>=0.9.0 in /mnt/hdd/sultan/anaconda3/lib/python3.8/site-packages (from chex>=0.0.4->optax) (0.11.1)\n",
            "Requirement already satisfied: dm-tree>=0.1.5 in /mnt/hdd/sultan/anaconda3/lib/python3.8/site-packages (from chex>=0.0.4->optax) (0.1.6)\n",
            "Requirement already satisfied: scipy>=1.2.1 in /mnt/hdd/sultan/anaconda3/lib/python3.8/site-packages (from jax>=0.1.55->optax) (1.5.2)\n",
            "Requirement already satisfied: opt-einsum in /mnt/hdd/sultan/anaconda3/lib/python3.8/site-packages (from jax>=0.1.55->optax) (3.3.0)\n",
            "Requirement already satisfied: flatbuffers<3.0,>=1.12 in /mnt/hdd/sultan/anaconda3/lib/python3.8/site-packages (from jaxlib>=0.1.37->optax) (2.0)\n"
          ]
        }
      ],
      "source": [
        "import jax\n",
        "import jax.numpy as jnp\n",
        "import matplotlib.pyplot as plt\n",
        "!pip install optax\n",
        "import optax"
      ]
    },
    {
      "cell_type": "markdown",
      "metadata": {
        "id": "2G43Y3R2xeuq"
      },
      "source": [
        "$\\texttt{jax.numpy}$ includes most of the functions implemented in $\\texttt{numpy}$, so you can almost treat it as original $\\texttt{numpy}$. $\\texttt{optax}$ is an additional library including implementation for various optimizers. \n",
        "\n",
        "In this homework, we will solve a regression problem with BNNs. For that, we first generate training data, where the pair $(x_\\text{train}, y_\\text{train})$ is generated from some underlying function with Gaussian measurement noises."
      ]
    },
    {
      "cell_type": "code",
      "execution_count": 2,
      "metadata": {
        "id": "eVFlrWBOWHDp"
      },
      "outputs": [
        {
          "name": "stderr",
          "output_type": "stream",
          "text": [
            "WARNING:absl:No GPU/TPU found, falling back to CPU. (Set TF_CPP_MIN_LOG_LEVEL=0 and rerun for more info.)\n"
          ]
        },
        {
          "data": {
            "text/plain": [
              "[<matplotlib.lines.Line2D at 0x7f09d41ebdf0>]"
            ]
          },
          "execution_count": 2,
          "metadata": {},
          "output_type": "execute_result"
        },
        {
          "data": {
            "image/png": "[encoded data removed]",
            "text/plain": [
              "<Figure size 432x288 with 1 Axes>"
            ]
          },
          "metadata": {
            "needs_background": "light"
          },
          "output_type": "display_data"
        }
      ],
      "source": [
        "def true_function(x):\n",
        "    return x * jnp.sin(3*jnp.pi*x)\n",
        "    \n",
        "key = jax.random.PRNGKey(42)\n",
        "num_train = 100\n",
        "obs_std = 0.3\n",
        "train_x = jnp.concatenate([jnp.linspace(-0.8, -0.2, num_train//2), jnp.linspace(0.2, 0.8, num_train//2)])\n",
        "key, key_ = jax.random.split(key, 2)\n",
        "train_y = true_function(train_x) + obs_std * jax.random.normal(key_, [num_train])\n",
        "plt.plot(train_x, train_y, '.b')"
      ]
    },
    {
      "cell_type": "markdown",
      "metadata": {
        "id": "At0FeLKQyFGR"
      },
      "source": [
        "One thing you should notice in the above code is that we are explicitly keeping track of the random seed ($\\texttt{key}$) for random number generation. This is one property of $\\texttt{jax}$ different from $\\texttt{numpy}$, and helps us to enhance reproducibility. Whenever you want to generate something randomly, you should provide a $\\texttt{key}$ for that.\n",
        "\n",
        "Now we proceed to define a neural network architecture for our regression problem. We use a simple multi-layer perceptron (MLP) having two hidden layers. The codes below define the function to do forward pass through MLP and the function to initialize the parameters of MLP. The MLP takes an input $x$ and outputs the predicted function value $\\mu(x;\\theta)$ and its observation noise $\\sigma(x;\\theta)$ where $\\theta$ is the parameter of the MLP.\n",
        "\n",
        "Parameters of MLP are represented by a dictionary $\\texttt{string} \\to \\texttt{jnp.ndarray}$.  $\\texttt{W1}$ and $\\texttt{b1}$ represent the weight matrix and bias vector of the first layer, and the rest should be clear. Note also how the code is using keys for random initialization."
      ]
    },
    {
      "cell_type": "code",
      "execution_count": 3,
      "metadata": {
        "id": "gioYezfrZI7l"
      },
      "outputs": [],
      "source": [
        "def MLP(params, x):\n",
        "    y = jax.nn.swish(jnp.dot(x[...,None], params['W1']) + params['b1'])\n",
        "    y = jax.nn.swish(jnp.dot(y, params['W2']) + params['b2'])\n",
        "    y = jnp.dot(y, params['W3']) + params['b3']\n",
        "    y_mean = y[...,0]\n",
        "    y_std = jax.nn.softplus(y[...,1])\n",
        "    return y_mean, y_std\n",
        "\n",
        "def init_params(key, num_hidden):\n",
        "    W_init = jax.nn.initializers.kaiming_normal()\n",
        "    b_init = jax.nn.initializers.zeros\n",
        "\n",
        "    key, key_ = jax.random.split(key, 2)\n",
        "    keys = jax.random.split(key_, 6)    \n",
        "    W1 = W_init(keys[0], (1, num_hidden))\n",
        "    b1 = b_init(keys[1], (num_hidden,))\n",
        "    W2 = W_init(keys[2], (num_hidden, num_hidden))\n",
        "    b2 = b_init(keys[3], (num_hidden,))\n",
        "    W3 = W_init(keys[4], (num_hidden, 2))\n",
        "    b3 = b_init(keys[5], (2,))\n",
        "\n",
        "    return key, {'W1':W1, 'b1':b1, 'W2':W2, 'b2':b2, 'W3':W3, 'b3':b3}"
      ]
    },
    {
      "cell_type": "markdown",
      "metadata": {
        "id": "HAqUH--Mz4CC"
      },
      "source": [
        "Now we define the likelihood and prior for Bayesian inference. The likelihood is simply given as a Gaussian,\n",
        "\n",
        "$$\n",
        "p(y|x, \\theta) = \\mathcal{N}(y | \\mu(x;\\theta), \\sigma^2(x;\\theta)).\n",
        "$$\n",
        "\n",
        "For the prior, we assume i.i.d. zero-mean Gaussian prior.\n",
        "\n",
        "$$\n",
        "p(\\theta) = \\mathcal{N}(\\theta ; 0, \\mathrm{diag}(\\lambda^2)),\n",
        "$$\n",
        "\n",
        "where $\\lambda$ is a hyperparameter for prior standard deviation. Given a training set $(X, Y) = \\{(x_i, y_i)\\}_{i=1}^n$, the joint likelihood is then computed as\n",
        "\n",
        "$$\n",
        "\\displaystyle\n",
        "p(Y, \\theta | X) = p(\\theta)\\prod_{i=1}^n p(y_i|x_i, \\theta).\n",
        "$$\n",
        "\n",
        "As an illustraion, let us first solve the regression via Maximum a Posterior (MAP). We need to minimize the negative log joint likelihood,\n",
        "\n",
        "$$\n",
        "U(\\theta) = -\\log p(\\theta) - \\sum_{i=1}^n \\log p(y_i|x_i, \\theta),\n",
        "$$\n",
        "and the codes below defines the functions computing the negative log joint likelihood."
      ]
    },
    {
      "cell_type": "code",
      "execution_count": 4,
      "metadata": {
        "id": "ct7ESB7XdJ1q"
      },
      "outputs": [],
      "source": [
        "# computes -log p(y|x, params) except for the constants not depending on the parameters.\n",
        "def neg_log_likel(params, x, y):\n",
        "    y_mean, y_std = MLP(params, x)\n",
        "    nll = 0.5 * (y - y_mean)**2 / y_std**2 + jnp.log(y_std) \n",
        "    return nll.sum()\n",
        "\n",
        "# computes -log p(params) except for the constants not depending on the parameters.\n",
        "def neg_log_prior(params, prior_std):    \n",
        "    def nlp(x):\n",
        "        return jnp.sum(0.5 * x.reshape(-1)**2 / prior_std**2)\n",
        "    return sum(jax.tree_leaves(jax.tree_map(nlp, params)))\n",
        "\n",
        "# computes -log p(y, params | x) except for the constants not depending on the parameters.\n",
        "def neg_log_joint(params, x, y, prior_std):\n",
        "    return neg_log_likel(params, x, y) + neg_log_prior(params, prior_std)        "
      ]
    },
    {
      "cell_type": "markdown",
      "metadata": {
        "id": "Wj9qNCiA2Ifq"
      },
      "source": [
        "What we have to do now is to compute the gradient of the $U(\\theta)$ with $\\theta$ for gradient descent. Using $\\texttt{jax}$, this can be done very easily."
      ]
    },
    {
      "cell_type": "code",
      "execution_count": 5,
      "metadata": {
        "id": "EUEYrvPa2HVr"
      },
      "outputs": [],
      "source": [
        "def loss_and_grad(params, x, y, prior_std):\n",
        "    return jax.value_and_grad(neg_log_joint, argnums=0)(params, x, y, prior_std)"
      ]
    },
    {
      "cell_type": "markdown",
      "metadata": {
        "id": "21W-5L7R2ctj"
      },
      "source": [
        "The function above simply transforms our objective function into another function computing the loss values ($U$) and its gradient w.r.t. the parameter $(\\nabla_\\theta U(\\theta))$. \n",
        "\n",
        "Throughout this homework, we will use fixed values for the hyperparameters (number of hidden nodes in MLP and prior standard deviation)."
      ]
    },
    {
      "cell_type": "code",
      "execution_count": 6,
      "metadata": {
        "id": "odaQD2zhOGMF"
      },
      "outputs": [],
      "source": [
        "# hyperparameters\n",
        "num_hidden = 32\n",
        "prior_std = 1.0"
      ]
    },
    {
      "cell_type": "markdown",
      "metadata": {
        "id": "rDc04SVp22HT"
      },
      "source": [
        "The code below  defines a training step of MAP procedure. The function $\\texttt{train_step}$ takes the current parameters and optimizer state, does gradient descent, and returns the updated parameters, optimizer state, and loss value. $\\texttt{jit}$ stands for just-in-time compilation, which makes the computation much faster."
      ]
    },
    {
      "cell_type": "code",
      "execution_count": 7,
      "metadata": {
        "id": "FCywY_0nOJVF"
      },
      "outputs": [],
      "source": [
        "opt = optax.adam(1e-3)\n",
        "@jax.jit\n",
        "def train_step(params, opt_state):\n",
        "    loss, grads = loss_and_grad(params, train_x, train_y, prior_std)\n",
        "    updates, opt_state = opt.update(grads, opt_state)\n",
        "    params = optax.apply_updates(params, updates)\n",
        "    return loss, params, opt_state"
      ]
    },
    {
      "cell_type": "markdown",
      "metadata": {
        "id": "Kuk5PO8H3sa8"
      },
      "source": [
        "Given the training step function, the MAP estimation is simple as below. "
      ]
    },
    {
      "cell_type": "code",
      "execution_count": 8,
      "metadata": {
        "id": "om3XvoNWjMZc"
      },
      "outputs": [
        {
          "name": "stdout",
          "output_type": "stream",
          "text": [
            "step 500, loss -30.3284\n",
            "step 1000, loss -39.6044\n",
            "step 1500, loss -43.5640\n",
            "step 2000, loss -45.7702\n",
            "step 2500, loss -46.8278\n",
            "step 3000, loss -47.4226\n",
            "step 3500, loss -48.1751\n",
            "step 4000, loss -49.0678\n",
            "step 4500, loss -49.5685\n",
            "step 5000, loss -49.6863\n"
          ]
        }
      ],
      "source": [
        "key, params = init_params(key, num_hidden)\n",
        "opt_state = opt.init(params)\n",
        "num_steps = 5000\n",
        "for t in range(1, num_steps+1):\n",
        "    loss, params, opt_state = train_step(params, opt_state)\n",
        "    if t % 500 == 0:\n",
        "        print(f'step {t}, loss {loss:.4f}')"
      ]
    },
    {
      "cell_type": "markdown",
      "metadata": {
        "id": "jTXGC_w-3zRT"
      },
      "source": [
        "The code below test the trained MLP on the interval $[-1.1, 1.1]$. The blue line shows the mean prediction $\\mu(x)$, and the shaded area visualizes $\\pm\\sigma(x)$ and $\\pm 2 \\sigma(x)$ interval. As you can see, the MAP estimation fits the model quite well, but it fails to properly capture the uncertainty, especially in the region where training data are scarse."
      ]
    },
    {
      "cell_type": "code",
      "execution_count": 9,
      "metadata": {
        "id": "LYTj4HkK7_Aj"
      },
      "outputs": [
        {
          "data": {
            "text/plain": [
              "<matplotlib.legend.Legend at 0x7f09b8799670>"
            ]
          },
          "execution_count": 9,
          "metadata": {},
          "output_type": "execute_result"
        },
        {
          "data": {
            "image/png": "[encoded data removed]",
            "text/plain": [
              "<Figure size 360x360 with 1 Axes>"
            ]
          },
          "metadata": {
            "needs_background": "light"
          },
          "output_type": "display_data"
        }
      ],
      "source": [
        "test_x = jnp.linspace(-1.1, 1.1, 100)\n",
        "y_mean, y_std = MLP(params, test_x)\n",
        "plt.figure(figsize=(5, 5))\n",
        "plt.fill_between(test_x, y_mean-2*y_std, y_mean+2*y_std, alpha=0.2, facecolor='skyblue', edgecolor=None)\n",
        "plt.fill_between(test_x, y_mean-y_std, y_mean+y_std, alpha=0.4, facecolor='skyblue', edgecolor=None)\n",
        "plt.plot(test_x, y_mean, label='prediction')\n",
        "plt.plot(train_x, train_y, 'rx', label='training data')\n",
        "plt.legend()"
      ]
    },
    {
      "cell_type": "markdown",
      "metadata": {
        "id": "0PwRjKAm4SX1"
      },
      "source": [
        "## Problem 1 (40pts)\n",
        "In this problem, we will implement HMC for the given regression problem. Consider the Hamiltonian function defined as follows:\n",
        "\n",
        "$$\n",
        "H(\\theta, p) = U(\\theta) + K(p),\n",
        "$$\n",
        "where\n",
        "$$\n",
        "U(\\theta) = -\\sum_{i=1}^n \\log p(y_i|x_i,\\theta) - \\log p(\\theta), \\quad \n",
        "K(p) = \\frac{1}{2}p^\\top p.\n",
        "$$\n",
        "That is, the potential energy is the negative log joint likelihood function defined above and the kinetic energy function is negative log density of standard Gaussian.\n",
        "\n",
        "(a) (30pts) Fill the blank in the below code for a leapfrog step in HMC. Note that both parameters and momentums are represented as dictionaries; elementry operations such as addition or scalar multiplication may not be straightforward. You can use $\\texttt{jax.tree_multimap}$ for this. For instance, say you have two dictionaries $\\texttt{dict1}$ and $\\texttt{dict2}$ having the same keys. You want to multiply $4.0$ to the values of the first dictionary, multiply $2.0$ to the values of the second dictionary and add them to make a new dictionary. This operation be implemented as follows:\n",
        "\n",
        "$$\n",
        "\\texttt{result = jax.tree_multimap(lambda x1, x2: 4.0*x1 + 2.0*x2, dict1, dict2)}.\n",
        "$$\n",
        "\n",
        "For the first argument, you pass the function that you want to apply for each members of dictionaries. For the rest of the arguments, you pass the dictionaries that you will be applying the first argument. For more examples, see https://jax.readthedocs.io/en/latest/jax-101/05.1-pytrees.html."
      ]
    },
    {
      "cell_type": "code",
      "execution_count": 10,
      "metadata": {
        "id": "87SOGMdASTaK"
      },
      "outputs": [],
      "source": [
        "def generate_momentum(key, params):    \n",
        "    momentum = {}\n",
        "    for k, v in params.items():\n",
        "        key, key_ = jax.random.split(key, 2)\n",
        "        momentum[k] = jax.random.normal(key_, v.shape) \n",
        "    return key, momentum\n",
        "\n",
        "@jax.jit\n",
        "def HMC_step(key, params, eps, num_leapfrog_steps):   \n",
        "\n",
        "    # Leapfrog step with step size eps.\n",
        "    # takes the current (parameter, momentum, U, grads), do single leapfrog step,\n",
        "    # and returns the updated (parameters, momentum, U, grads).\n",
        "    def leapfrog_body(_, carry):\n",
        "        params, momentum, U, grads = carry\n",
        "\n",
        "        # fill this part\n",
        "        ######################################################################\n",
        "        # Update the first-half of the momentum (momentum)\n",
        "        momentum = jax.tree_multimap(lambda x1, x2: x1 - eps * x2 / 2, momentum, grads)\n",
        "        # Update the parameters (params)\n",
        "        params = jax.tree_multimap(lambda x1, x2: x1 + eps * x2, params, momentum)\n",
        "        # Update the (U, grads) using the function loss_and_grad(params, train_x, train_y, prior_std)\n",
        "        U, grads = loss_and_grad(params, train_x, train_y, prior_std)\n",
        "        # Update the second-half of the momentum (momentum)\n",
        "        momentum = jax.tree_multimap(lambda x1, x2: x1 - eps * x2 / 2, momentum, grads)\n",
        "        ######################################################################\n",
        "        \n",
        "        return (params, momentum, U, grads)\n",
        "\n",
        "    # initialize momentum\n",
        "    key, momentum = generate_momentum(key, params)\n",
        "    U, grads = loss_and_grad(params, train_x, train_y, prior_std)\n",
        "    K = sum([0.5*jnp.sum(p**2) for p in jax.tree_leaves(momentum)])\n",
        "    H = U + K    \n",
        "\n",
        "    # propose new sample via leapfrog integration\n",
        "    new_params, new_momentum, new_U, new_grads = jax.lax.fori_loop(\n",
        "        0, num_leapfrog_steps, leapfrog_body, (params, momentum, U, grads))\n",
        "    new_K = sum([0.5*jnp.sum(p**2) for p in jax.tree_leaves(new_momentum)])\n",
        "    new_H = new_U + new_K\n",
        "\n",
        "    # compute acceptance probability    \n",
        "    accept_prob = jnp.exp(jnp.minimum(0.0, -new_H + H))\n",
        "    key, key_ = jax.random.split(key, 2)\n",
        "    accepted = jax.random.uniform(key_) < accept_prob\n",
        "\n",
        "    # MH accept-reject step\n",
        "    (params, H, U, K) = jax.lax.cond(accepted, \n",
        "                                     lambda _: (new_params, new_H, new_U, new_K),\n",
        "                                     lambda _: (params, H, U, K),\n",
        "                                    operand=None)\n",
        "    \n",
        "    return key, accepted, params, H, U, K"
      ]
    },
    {
      "cell_type": "markdown",
      "metadata": {
        "id": "h-JoDSpSup50"
      },
      "source": [
        "Having completed the code above, we can run HMC using the following code."
      ]
    },
    {
      "cell_type": "code",
      "execution_count": 11,
      "metadata": {
        "id": "5TCgP4sNuvB8"
      },
      "outputs": [
        {
          "name": "stdout",
          "output_type": "stream",
          "text": [
            "step 100, acc rate 1.000, H 745.6746, U 147.5237, K 598.1509, nll -45.3289, nlp 192.8526\n",
            "step 200, acc rate 1.000, H 808.8176, U 213.1494, K 595.6682, nll -57.4080, nlp 270.5574\n",
            "step 300, acc rate 1.000, H 870.0178, U 295.9456, K 574.0722, nll -58.5327, nlp 354.4784\n",
            "step 400, acc rate 0.998, H 908.6750, U 334.6822, K 573.9928, nll -61.5999, nlp 396.2821\n",
            "step 500, acc rate 0.996, H 970.5149, U 379.0477, K 591.4672, nll -63.5808, nlp 442.6286\n",
            "step 600, acc rate 0.997, H 998.5114, U 414.1785, K 584.3329, nll -60.8118, nlp 474.9902\n",
            "step 700, acc rate 0.997, H 1007.5537, U 436.8448, K 570.7089, nll -63.1079, nlp 499.9526\n",
            "step 800, acc rate 0.996, H 1028.4128, U 449.1659, K 579.2470, nll -63.5303, nlp 512.6961\n",
            "step 900, acc rate 0.997, H 1085.1473, U 473.3912, K 611.7562, nll -62.8801, nlp 536.2712\n",
            "step 1000, acc rate 0.997, H 1080.8245, U 487.4085, K 593.4160, nll -56.5379, nlp 543.9464\n",
            "step 1100, acc rate 0.997, H 1123.5129, U 513.2000, K 610.3129, nll -55.2578, nlp 568.4576\n",
            "step 1200, acc rate 0.998, H 1121.4834, U 538.4749, K 583.0085, nll -61.0833, nlp 599.5582\n",
            "step 1300, acc rate 0.998, H 1179.4753, U 529.6545, K 649.8208, nll -59.1536, nlp 588.8081\n",
            "step 1400, acc rate 0.996, H 1098.8719, U 529.1900, K 569.6819, nll -58.2177, nlp 587.4077\n",
            "step 1500, acc rate 0.997, H 1100.6631, U 522.8820, K 577.7812, nll -63.9233, nlp 586.8053\n",
            "step 1600, acc rate 0.997, H 1097.8860, U 517.1456, K 580.7404, nll -63.2255, nlp 580.3710\n",
            "step 1700, acc rate 0.997, H 1085.7753, U 529.9182, K 555.8571, nll -58.9221, nlp 588.8403\n",
            "step 1800, acc rate 0.997, H 1152.0851, U 542.3929, K 609.6922, nll -56.4219, nlp 598.8148\n",
            "step 1900, acc rate 0.997, H 1139.5858, U 541.0712, K 598.5146, nll -65.4078, nlp 606.4789\n",
            "step 2000, acc rate 0.998, H 1130.9407, U 533.3771, K 597.5635, nll -58.5148, nlp 591.8920\n",
            "step 2100, acc rate 0.998, H 1081.6650, U 531.4872, K 550.1779, nll -60.5163, nlp 592.0037\n",
            "step 2200, acc rate 0.998, H 1129.1525, U 523.4423, K 605.7102, nll -56.3258, nlp 579.7680\n",
            "step 2300, acc rate 0.997, H 1139.1190, U 529.2991, K 609.8199, nll -61.2335, nlp 590.5327\n",
            "step 2400, acc rate 0.998, H 1099.3110, U 534.7855, K 564.5255, nll -62.2405, nlp 597.0259\n",
            "step 2500, acc rate 0.998, H 1127.7495, U 505.5907, K 622.1588, nll -60.8896, nlp 566.4803\n",
            "step 2600, acc rate 0.998, H 1110.5979, U 524.8479, K 585.7499, nll -53.6903, nlp 578.5382\n",
            "step 2700, acc rate 0.997, H 1127.6293, U 495.9947, K 631.6346, nll -61.1250, nlp 557.1196\n",
            "step 2800, acc rate 0.998, H 1101.3502, U 527.8212, K 573.5291, nll -62.2784, nlp 590.0996\n",
            "step 2900, acc rate 0.998, H 1167.4348, U 537.1011, K 630.3337, nll -65.9726, nlp 603.0737\n",
            "step 3000, acc rate 0.997, H 1125.4734, U 558.8057, K 566.6677, nll -63.5590, nlp 622.3647\n"
          ]
        }
      ],
      "source": [
        "def HMC(key, eps, num_leapfrog_steps, num_steps, burn_in, thin):\n",
        "\n",
        "    # initialize params\n",
        "    key, params = init_params(key, num_hidden)\n",
        "    samples = []\n",
        "    num_accepted = 0\n",
        "    for t in range(1, num_steps + 1):\n",
        "        key, accepted, params, H, U, K = HMC_step(key, params, eps, num_leapfrog_steps)\n",
        "        num_accepted += int(accepted)\n",
        "        if t % 100 == 0:            \n",
        "            nll = neg_log_likel(params, train_x, train_y)\n",
        "            nlp = neg_log_prior(params, prior_std)\n",
        "            print((\n",
        "                f'step {t}, acc rate {num_accepted/t:.3f}, '\n",
        "                f'H {H:.4f}, U {U:.4f}, K {K:.4f}, '\n",
        "                f'nll {nll:.4f}, nlp {nlp:.4f}'\n",
        "            ))\n",
        "\n",
        "        if t > burn_in and t % thin == 0:\n",
        "            samples.append(params)\n",
        "\n",
        "    return samples\n",
        "\n",
        "eps = 5e-4\n",
        "num_leapfrog_steps = 100\n",
        "num_steps = 3000\n",
        "burn_in = 1500\n",
        "thin = 10\n",
        "samples = HMC(key, eps, num_leapfrog_steps, num_steps, burn_in, thin)"
      ]
    },
    {
      "cell_type": "markdown",
      "metadata": {
        "id": "1yQhZVs62YAK"
      },
      "source": [
        "(b) (10pts) Having completed the code, run HMC to get samples. For visualization, we want to approximate the predictive means and variances for given test data. Complete the following code computing predictive means and variances using the samples collected from HMC. Hint: for variance, keep in mind the law of total variance."
      ]
    },
    {
      "cell_type": "code",
      "execution_count": 12,
      "metadata": {
        "id": "_T4Z0Eu6x7gH"
      },
      "outputs": [
        {
          "data": {
            "text/plain": [
              "<matplotlib.legend.Legend at 0x7f09987784f0>"
            ]
          },
          "execution_count": 12,
          "metadata": {},
          "output_type": "execute_result"
        },
        {
          "data": {
            "image/png": "[encoded data removed]",
            "text/plain": [
              "<Figure size 720x360 with 2 Axes>"
            ]
          },
          "metadata": {
            "needs_background": "light"
          },
          "output_type": "display_data"
        }
      ],
      "source": [
        "def compute_pred_mean_and_std(means, stds):\n",
        "     # complete this part\n",
        "    ###################################################################\n",
        "    # Formulate pred_mean\n",
        "    pred_mean = jnp.mean(means, axis=0)\n",
        "    # Formulate pred_std -> Law of Total Variance\n",
        "    pred_std = jnp.sqrt(jnp.var(means, axis=0) + jnp.mean(jnp.square(stds), axis=0))\n",
        "    ###################################################################\n",
        "    return pred_mean, pred_std\n",
        "\n",
        "plt.figure(figsize=(10, 5))\n",
        "plt.subplot(121)\n",
        "test_x = jnp.linspace(-1.1, 1.1, 100)\n",
        "y_means, y_stds = [], []\n",
        "for params in samples:\n",
        "    y_mean, y_std = MLP(params, test_x)\n",
        "    plt.plot(test_x, y_mean, alpha=0.2)    \n",
        "    y_means.append(y_mean)\n",
        "    y_stds.append(y_std)\n",
        "plt.plot(train_x, train_y, 'rx', label='training data')\n",
        "plt.legend()\n",
        "\n",
        "y_means = jnp.stack(y_means)\n",
        "y_stds = jnp.stack(y_stds)\n",
        "y_mean, y_std = compute_pred_mean_and_std(y_means, y_stds)\n",
        "plt.subplot(122)\n",
        "plt.fill_between(test_x, y_mean-2*y_std, y_mean+2*y_std, alpha=0.2, facecolor='skyblue', edgecolor=None)\n",
        "plt.fill_between(test_x, y_mean-y_std, y_mean+y_std, alpha=0.4, facecolor='skyblue', edgecolor=None)\n",
        "plt.plot(test_x, y_mean, label='prediction')\n",
        "plt.plot(train_x, train_y, 'rx', label='training data')\n",
        "plt.legend()"
      ]
    },
    {
      "cell_type": "markdown",
      "metadata": {
        "id": "EHOwewHq25Dk"
      },
      "source": [
        "# Problem 2 (60pts)\n",
        "\n",
        "Now we are going to solve the same regression problem using Bayes-by-Backprop (BBB). We assume the simplest possible mean-field Gaussian variational distribution for the parameters.\n",
        "\n",
        "$$\n",
        "q(\\theta;\\phi) = \\mathcal{N}(\\theta ; \\mu_\\phi, \\mathrm{diag}(\\sigma_\\phi^2)).\n",
        "$$\n",
        "\n",
        "(a) (5pts) Complete the following code initializing the variationa parameters $\\phi$. The code should look similar to $\\texttt{init_params}$ function above, but now we have more parameters to initialize."
      ]
    },
    {
      "cell_type": "code",
      "execution_count": 13,
      "metadata": {
        "id": "xOhxJCNo4Rpy"
      },
      "outputs": [],
      "source": [
        "def init_var_params(key, num_hidden):\n",
        "    # sigma_uc is the unconstrained transform of sigma such that sigma = softplus(sigma_uc).    \n",
        "    W_mu_init = jax.nn.initializers.kaiming_normal()\n",
        "    W_sigma_uc_init = lambda key, shape: -3.0 + 0.1 * jax.random.normal(key, shape)\n",
        "    b_mu_init = jax.nn.initializers.zeros\n",
        "    b_sigma_uc_init = lambda key, shape: -3.0 + 0.1 * jax.random.normal(key, shape)\n",
        "\n",
        "    # fill this part\n",
        "    ################################################################################\n",
        "    # Keep track of the random seed (key) for random number generation\n",
        "    key, key_ = jax.random.split(key, 2)\n",
        "    keys = jax.random.split(key_, 12)\n",
        "    # W1_mu\n",
        "    W1_mu = W_mu_init(keys[0], (1, num_hidden))\n",
        "    # W1_sigma_uc\n",
        "    W1_sigma_uc = W_sigma_uc_init(keys[1], (1, num_hidden))\n",
        "    # b1_mu\n",
        "    b1_mu = b_mu_init(keys[2], (num_hidden,))\n",
        "    # b1_sigma_uc\n",
        "    b1_sigma_uc = b_sigma_uc_init(keys[3], (num_hidden,))\n",
        "    # W2_mu\n",
        "    W2_mu = W_mu_init(keys[4], (num_hidden, num_hidden))\n",
        "    # W2_sigma_uc\n",
        "    W2_sigma_uc = W_sigma_uc_init(keys[5], (num_hidden, num_hidden))\n",
        "    # b2_mu\n",
        "    b2_mu = b_mu_init(keys[6], (num_hidden,))\n",
        "    # b2_sigma_uc\n",
        "    b2_sigma_uc = b_sigma_uc_init(keys[7], (num_hidden,))\n",
        "    # W3_mu\n",
        "    W3_mu = W_mu_init(keys[8], (num_hidden, 2))\n",
        "    # W3_sigma_uc\n",
        "    W3_sigma_uc = W_sigma_uc_init(keys[9], (num_hidden, 2))\n",
        "    # b3_mu\n",
        "    b3_mu = b_mu_init(keys[10], (2,))\n",
        "    # b3_sigma_uc\n",
        "    b3_sigma_uc = b_sigma_uc_init(keys[11], (2,))\n",
        "    ################################################################################\n",
        "\n",
        "    var_params = {'W1_mu':W1_mu, 'W1_sigma_uc':W1_sigma_uc,\n",
        "               'b1_mu':b1_mu, 'b1_sigma_uc':b1_sigma_uc, \n",
        "               'W2_mu':W2_mu, 'W2_sigma_uc':W2_sigma_uc,\n",
        "               'b2_mu':b2_mu, 'b2_sigma_uc':b2_sigma_uc,\n",
        "               'W3_mu':W3_mu, 'W3_sigma_uc':W3_sigma_uc,\n",
        "               'b3_mu':b3_mu, 'b3_sigma_uc':b3_sigma_uc\n",
        "               }\n",
        "    return key, var_params"
      ]
    },
    {
      "cell_type": "markdown",
      "metadata": {
        "id": "yhWxnqHDVFWy"
      },
      "source": [
        "(b) (15pts) The objective function for the variational inference is the Evidence LOwer Bound (ELBO), which is computed as follows:\n",
        "\n",
        "$$\n",
        "\\displaystyle\n",
        "\\mathcal{L}(\\phi) = \\sum_{i=1}^n \\mathbb{E}_{q(\\theta;\\phi)}[\\log p(y_i|x_i, \\theta)] - \\gamma\\cdot D_\\text{KL}[ q(\\theta;\\phi) \\Vert p(\\theta)].\n",
        "$$\n",
        "\n",
        "(Note that we are introducing additional scaling parameter $\\gamma$ to control the strength of the KL-divergence term.) Since both $p(\\theta)$ and $q(\\theta;\\phi)$ are Gaussians, we can compute their KL-divergence in close-form. Compute the KL divergence, and complete the following code to compute it."
      ]
    },
    {
      "cell_type": "code",
      "execution_count": 14,
      "metadata": {
        "id": "TpMT7TyIVl_C"
      },
      "outputs": [
        {
          "ename": "IndentationError",
          "evalue": "expected an indented block (<ipython-input-14-aa9b0c4a1dd6>, line 8)",
          "output_type": "error",
          "traceback": [
            "\u001b[0;36m  File \u001b[0;32m\"<ipython-input-14-aa9b0c4a1dd6>\"\u001b[0;36m, line \u001b[0;32m8\u001b[0m\n\u001b[0;31m    def kl_divergence(var_params, prior_std):\u001b[0m\n\u001b[0m    ^\u001b[0m\n\u001b[0;31mIndentationError\u001b[0m\u001b[0;31m:\u001b[0m expected an indented block\n"
          ]
        }
      ],
      "source": [
        "# compute KL divergence between q(mu, sigma) and p(0, prior_std)\n",
        "def kl_divergence_(mu, sigma_uc, prior_std):\n",
        "    # fill this part\n",
        "    ################################################################################\n",
        "    # Calculate D_KL[q(\\theta; \\phi) || p(\\theta)]\n",
        "    \n",
        "    return kld\n",
        "    ################################################################################\n",
        "\n",
        "def kl_divergence(var_params, prior_std):\n",
        "    kld = kl_divergence_(var_params['W1_mu'], var_params['W1_sigma_uc'], prior_std)\n",
        "    kld += kl_divergence_(var_params['b1_mu'], var_params['b1_sigma_uc'], prior_std)\n",
        "    kld += kl_divergence_(var_params['W2_mu'], var_params['W2_sigma_uc'], prior_std)\n",
        "    kld += kl_divergence_(var_params['b2_mu'], var_params['b2_sigma_uc'], prior_std)\n",
        "    kld += kl_divergence_(var_params['W3_mu'], var_params['W3_sigma_uc'], prior_std)\n",
        "    kld += kl_divergence_(var_params['b3_mu'], var_params['b3_sigma_uc'], prior_std)\n",
        "    return kld"
      ]
    },
    {
      "cell_type": "markdown",
      "metadata": {
        "id": "MXQfIpc6XFTz"
      },
      "source": [
        "(c) (30pts) The expected likelihood term is approximated with reparameterization trick. In this homework, we will implement the local reparameterization trick (https://arxiv.org/abs/1506.02557) that was covered in the class. Complete the code below doing forward passes with locally reparameterized samples from the variational distributions. You won't get any score if you implement the vanilla reparameterization trick."
      ]
    },
    {
      "cell_type": "code",
      "execution_count": null,
      "metadata": {
        "id": "n_MBfNbDZPDx"
      },
      "outputs": [],
      "source": [
        "def MLP_local_reparam(key, var_params, x):\n",
        "\n",
        "    # takes W_mu, W_sigma_uc, b_mu, b_sigma_uc and draw samples from\n",
        "    # y ~ Wx + b where W ~ N(W_mu, W_sigma) and b ~ N(b_mu, b_sigma)\n",
        "    def local_reparam_linear(key, W_mu, W_sigma_uc, b_mu, b_sigma_uc, x):\n",
        "        # fill this part\n",
        "        ################################################################################\n",
        "        # Draw W ~ N(W_mu, W_sigma_uc)\n",
        "        # Draw b ~ N(b_mu, b_sigma_uc)\n",
        "        # Draw y ~ Wx + b\n",
        "        ################################################################################\n",
        "        return key, output\n",
        "\n",
        "    key, y = local_reparam_linear(\n",
        "        key, var_params['W1_mu'], var_params['W1_sigma_uc'],\n",
        "        var_params['b1_mu'], var_params['b1_sigma_uc'], x[...,None]\n",
        "        )\n",
        "    y = jax.nn.swish(y)\n",
        "        \n",
        "    key, y = local_reparam_linear(\n",
        "        key, var_params['W2_mu'], var_params['W2_sigma_uc'],\n",
        "        var_params['b2_mu'], var_params['b2_sigma_uc'], y\n",
        "        )\n",
        "    y = jax.nn.swish(y)\n",
        "\n",
        "    key, y = local_reparam_linear(\n",
        "        key, var_params['W3_mu'], var_params['W3_sigma_uc'],\n",
        "        var_params['b3_mu'], var_params['b3_sigma_uc'], y\n",
        "        )\n",
        "    \n",
        "    y_mean = y[...,0]\n",
        "    y_std = jax.nn.softplus(y[...,1])\n",
        "    return key, y_mean, y_std"
      ]
    },
    {
      "cell_type": "markdown",
      "metadata": {
        "id": "yH-bullPcU7G"
      },
      "source": [
        "(d) (10pts) Using the kl-divergence and local reparametrization implemented above, complete the code below computing the negative ELBO. Then run the remaining codes to verify your implementation."
      ]
    },
    {
      "cell_type": "code",
      "execution_count": null,
      "metadata": {
        "id": "18z02bwjcb6Y"
      },
      "outputs": [],
      "source": [
        "# computes negative ELBO,\n",
        "# - E_q [log p(Y|X,theta)] + gamma * KL[q||p]\n",
        "def neg_elbo(key, var_params, x, y, prior_std, gamma):\n",
        "    # fill this part\n",
        "    ################################################################################\n",
        "    # - E_q [log p(Y|X,theta)] + gamma * KL[q||p]\n",
        "    ################################################################################\n",
        "\n",
        "\n",
        "def neg_elbo_and_grad(key, var_params, x, y, prior_std, gamma):\n",
        "    grad_fn = jax.value_and_grad(neg_elbo, argnums=1)\n",
        "    key, key_ = jax.random.split(key, 2)\n",
        "    nelbo, grads = grad_fn(key, var_params, x, y, prior_std, gamma)\n",
        "    return key, nelbo, grads"
      ]
    },
    {
      "cell_type": "markdown",
      "metadata": {
        "id": "PsAV9m5ldeH3"
      },
      "source": [
        "Run the code below to see if your implementation is right."
      ]
    },
    {
      "cell_type": "code",
      "execution_count": null,
      "metadata": {
        "id": "a8WohoCgdhQ9"
      },
      "outputs": [],
      "source": [
        "opt = optax.adam(1e-3)\n",
        "gamma = 0.1\n",
        "@jax.jit\n",
        "def bbb_train_step(key, var_params, opt_state):\n",
        "    key, nelbo, grads = neg_elbo_and_grad(\n",
        "        key, var_params, train_x, train_y, prior_std, gamma)\n",
        "    updates, opt_state = opt.update(grads, opt_state)\n",
        "    var_params = optax.apply_updates(var_params, updates)\n",
        "    return key, nelbo, var_params, opt_state"
      ]
    },
    {
      "cell_type": "code",
      "execution_count": null,
      "metadata": {
        "id": "KaYr2stnd3lk"
      },
      "outputs": [],
      "source": [
        "key, var_params = init_var_params(key, num_hidden)\n",
        "opt_state = opt.init(var_params)\n",
        "num_steps = 10000\n",
        "for t in range(1, num_steps+1):\n",
        "    key, nelbo, var_params, opt_state = bbb_train_step(key, var_params, opt_state)\n",
        "    if t % 1000 == 0:\n",
        "        print(f'step {t}, neg elbo {nelbo:.4f}')"
      ]
    },
    {
      "cell_type": "code",
      "execution_count": null,
      "metadata": {
        "id": "RW3F9EKEediH"
      },
      "outputs": [],
      "source": [
        "# For evaluation, only one parameter is required for each test,\n",
        "# so we use vanilla reparameterization trick.\n",
        "def MLP_reparam(key, var_params, x):\n",
        "    \n",
        "    def reparam_linear(key, W_mu, W_sigma_uc, b_mu, b_sigma_uc, x):        \n",
        "        W_sigma = jax.nn.softplus(W_sigma_uc)\n",
        "        b_sigma = jax.nn.softplus(b_sigma_uc)\n",
        "\n",
        "        key, key_ = jax.random.split(key, 2)\n",
        "        eps = jax.random.normal(key_, W_sigma.shape)\n",
        "        W = W_mu + W_sigma * eps\n",
        "\n",
        "        key, key_ = jax.random.split(key, 2)\n",
        "        eps = jax.random.normal(key_, b_sigma.shape)\n",
        "        b = b_mu + b_sigma * eps\n",
        "\n",
        "        return key, jnp.dot(x, W) + b\n",
        "\n",
        "    key, y = reparam_linear(\n",
        "        key, var_params['W1_mu'], var_params['W1_sigma_uc'],\n",
        "        var_params['b1_mu'], var_params['b1_sigma_uc'], x[...,None]\n",
        "        )\n",
        "    y = jax.nn.swish(y)\n",
        "        \n",
        "    key, y = reparam_linear(\n",
        "        key, var_params['W2_mu'], var_params['W2_sigma_uc'],\n",
        "        var_params['b2_mu'], var_params['b2_sigma_uc'], y\n",
        "        )\n",
        "    y = jax.nn.swish(y)\n",
        "\n",
        "    key, y = reparam_linear(\n",
        "        key, var_params['W3_mu'], var_params['W3_sigma_uc'],\n",
        "        var_params['b3_mu'], var_params['b3_sigma_uc'], y\n",
        "        )\n",
        "    \n",
        "    y_mean = y[...,0]\n",
        "    y_std = jax.nn.softplus(y[...,1])\n",
        "    return key, y_mean, y_std\n",
        "\n",
        "plt.figure(figsize=(10, 5))\n",
        "plt.subplot(121)\n",
        "test_x = jnp.linspace(-1.1, 1.1, 100)\n",
        "y_means, y_stds = [], []\n",
        "num_samples = 50\n",
        "for i in range(num_samples):\n",
        "    key, y_mean, y_std = MLP_reparam(key, var_params, test_x)\n",
        "    plt.plot(test_x, y_mean, alpha=0.2)\n",
        "    y_means.append(y_mean)    \n",
        "    y_stds.append(y_std)\n",
        "plt.plot(train_x, train_y, 'rx', label='training data')\n",
        "plt.legend()\n",
        "\n",
        "y_means = jnp.stack(y_means)\n",
        "y_stds = jnp.stack(y_stds)\n",
        "y_mean, y_std = compute_pred_mean_and_std(y_means, y_stds)\n",
        "plt.subplot(122)\n",
        "plt.fill_between(test_x, y_mean-2*y_std, y_mean+2*y_std, alpha=0.2, facecolor='skyblue', edgecolor=None)\n",
        "plt.fill_between(test_x, y_mean-y_std, y_mean+y_std, alpha=0.4, facecolor='skyblue', edgecolor=None)\n",
        "plt.plot(test_x, y_mean, label='prediction')\n",
        "plt.plot(train_x, train_y, 'rx', label='training data')\n",
        "plt.legend()"
      ]
    }
  ],
  "metadata": {
    "colab": {
      "collapsed_sections": [],
      "name": "AI701_hw4.ipynb",
      "provenance": []
    },
    "kernelspec": {
      "display_name": "Python 3",
      "name": "python3"
    },
    "language_info": {
      "codemirror_mode": {
        "name": "ipython",
        "version": 3
      },
      "file_extension": ".py",
      "mimetype": "text/x-python",
      "name": "python",
      "nbconvert_exporter": "python",
      "pygments_lexer": "ipython3",
      "version": "3.8.5"
    }
  },
  "nbformat": 4,
  "nbformat_minor": 0
}
